{
 "cells": [
  {
   "cell_type": "code",
   "execution_count": 2,
   "metadata": {},
   "outputs": [],
   "source": [
    "import cv2\n"
   ]
  },
  {
   "cell_type": "code",
   "execution_count": 36,
   "metadata": {},
   "outputs": [
    {
     "name": "stdout",
     "output_type": "stream",
     "text": [
      "Video Loaded\n"
     ]
    }
   ],
   "source": [
    "# Initializing the HOG person detector \n",
    "hog = cv2.HOGDescriptor() \n",
    "hog.setSVMDetector(cv2.HOGDescriptor_getDefaultPeopleDetector()) \n",
    "# !wget \"https://www.youtube.com/watch?v=6NBwbKMyzEE\" -O video.mp4\n",
    "cap = cv2.VideoCapture('video.mp4') \n",
    "# cap = cv2.VideoCapture(0)\n",
    "print(\"Video Loaded\")"
   ]
  },
  {
   "cell_type": "code",
   "execution_count": 37,
   "metadata": {},
   "outputs": [],
   "source": [
    "  "
   ]
  },
  {
   "cell_type": "code",
   "execution_count": 31,
   "metadata": {},
   "outputs": [],
   "source": [
    "upperbody_cascade = cv2.CascadeClassifier(\"haarcascade_upperbody.xml\")\n",
    "while cap.isOpened():\n",
    "    ret, image = cap.read()\n",
    "    if ret:\n",
    "        gray_image = cv2.cvtColor(image, cv2.COLOR_BGR2GRAY)\n",
    "        people = upperbody_cascade.detectMultiScale(gray_image, scaleFactor = 1.05, minNeighbors = 5)\n",
    "        for x,y,w,h in people:\n",
    "            image = cv2.rectangle(image,(x,y), (x+w,y+h), (255,0,0),3)\n",
    "        cv2.imshow(\"Gray\", image)\n",
    "        if cv2.waitKey(25) & 0xFF == ord('q'): \n",
    "            break\n",
    "    else: \n",
    "        break\n",
    "cap.release()\n",
    "cv2.destroyAllWindows()"
   ]
  },
  {
   "cell_type": "code",
   "execution_count": null,
   "metadata": {},
   "outputs": [],
   "source": []
  }
 ],
 "metadata": {
  "kernelspec": {
   "display_name": "Python 3",
   "language": "python",
   "name": "python3"
  },
  "language_info": {
   "codemirror_mode": {
    "name": "ipython",
    "version": 3
   },
   "file_extension": ".py",
   "mimetype": "text/x-python",
   "name": "python",
   "nbconvert_exporter": "python",
   "pygments_lexer": "ipython3",
   "version": "3.7.4"
  }
 },
 "nbformat": 4,
 "nbformat_minor": 2
}
